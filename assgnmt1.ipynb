{
  "nbformat": 4,
  "nbformat_minor": 0,
  "metadata": {
    "colab": {
      "name": "assgnmt1.ipynb",
      "provenance": [],
      "collapsed_sections": [],
      "toc_visible": true,
      "authorship_tag": "ABX9TyPaHxFASIBBznwdAH3ezsHr",
      "include_colab_link": true
    },
    "kernelspec": {
      "name": "python3",
      "display_name": "Python 3"
    },
    "accelerator": "GPU"
  },
  "cells": [
    {
      "cell_type": "markdown",
      "metadata": {
        "id": "view-in-github",
        "colab_type": "text"
      },
      "source": [
        "<a href=\"https://colab.research.google.com/github/shivanisingh28/1104102_1dconv_reg/blob/master/assgnmt1.ipynb\" target=\"_parent\"><img src=\"https://colab.research.google.com/assets/colab-badge.svg\" alt=\"Open In Colab\"/></a>"
      ]
    },
    {
      "cell_type": "code",
      "metadata": {
        "id": "Ubi3SQLl0lQN",
        "colab_type": "code",
        "outputId": "80853df3-0486-4afb-8017-d6a84ca19c18",
        "colab": {
          "base_uri": "https://localhost:8080/",
          "height": 55
        }
      },
      "source": [
        "from google.colab import drive\n",
        "drive.mount('/content/drive')"
      ],
      "execution_count": 56,
      "outputs": [
        {
          "output_type": "stream",
          "text": [
            "Drive already mounted at /content/drive; to attempt to forcibly remount, call drive.mount(\"/content/drive\", force_remount=True).\n"
          ],
          "name": "stdout"
        }
      ]
    },
    {
      "cell_type": "code",
      "metadata": {
        "id": "zOQ0AjkXPZjt",
        "colab_type": "code",
        "colab": {}
      },
      "source": [
        "import pandas as pd\n",
        "from sklearn.model_selection import train_test_split\n",
        "import numpy as np\n",
        "import matplotlib.pyplot as plt\n",
        "from sklearn.linear_model import LinearRegression\n",
        "import torch\n",
        "from torch.nn import Conv1d #since we're inputing 1D row of data\n",
        "from torch.nn import MaxPool1d #max pooling layer\n",
        "from torch.nn import Flatten\n",
        "from torch.nn import Linear\n",
        "from torch.nn.functional import relu #activation function\n",
        "from torch.utils.data import DataLoader, TensorDataset #to work with datasets\n"
      ],
      "execution_count": 0,
      "outputs": []
    },
    {
      "cell_type": "code",
      "metadata": {
        "id": "MMMqhzUsS0oZ",
        "colab_type": "code",
        "outputId": "8349eb65-fea6-47d2-d01c-f30b0762b7f0",
        "colab": {
          "base_uri": "https://localhost:8080/",
          "height": 393
        }
      },
      "source": [
        "dataset = pd.read_csv('/content/drive/My Drive/housing.csv')\n",
        "dataset = dataset.dropna()\n",
        "\n",
        "print(\"Here are the first 10 rows of the dataset:\")\n",
        "dataset.head(10)"
      ],
      "execution_count": 58,
      "outputs": [
        {
          "output_type": "stream",
          "text": [
            "Here are the first 10 rows of the dataset:\n"
          ],
          "name": "stdout"
        },
        {
          "output_type": "execute_result",
          "data": {
            "text/html": [
              "<div>\n",
              "<style scoped>\n",
              "    .dataframe tbody tr th:only-of-type {\n",
              "        vertical-align: middle;\n",
              "    }\n",
              "\n",
              "    .dataframe tbody tr th {\n",
              "        vertical-align: top;\n",
              "    }\n",
              "\n",
              "    .dataframe thead th {\n",
              "        text-align: right;\n",
              "    }\n",
              "</style>\n",
              "<table border=\"1\" class=\"dataframe\">\n",
              "  <thead>\n",
              "    <tr style=\"text-align: right;\">\n",
              "      <th></th>\n",
              "      <th>longitude</th>\n",
              "      <th>latitude</th>\n",
              "      <th>housing_median_age</th>\n",
              "      <th>total_rooms</th>\n",
              "      <th>total_bedrooms</th>\n",
              "      <th>population</th>\n",
              "      <th>households</th>\n",
              "      <th>median_income</th>\n",
              "      <th>median_house_value</th>\n",
              "      <th>ocean_proximity</th>\n",
              "    </tr>\n",
              "  </thead>\n",
              "  <tbody>\n",
              "    <tr>\n",
              "      <th>0</th>\n",
              "      <td>-122.23</td>\n",
              "      <td>37.88</td>\n",
              "      <td>41.0</td>\n",
              "      <td>880.0</td>\n",
              "      <td>129.0</td>\n",
              "      <td>322.0</td>\n",
              "      <td>126.0</td>\n",
              "      <td>8.3252</td>\n",
              "      <td>452600.0</td>\n",
              "      <td>NEAR BAY</td>\n",
              "    </tr>\n",
              "    <tr>\n",
              "      <th>1</th>\n",
              "      <td>-122.22</td>\n",
              "      <td>37.86</td>\n",
              "      <td>21.0</td>\n",
              "      <td>7099.0</td>\n",
              "      <td>1106.0</td>\n",
              "      <td>2401.0</td>\n",
              "      <td>1138.0</td>\n",
              "      <td>8.3014</td>\n",
              "      <td>358500.0</td>\n",
              "      <td>NEAR BAY</td>\n",
              "    </tr>\n",
              "    <tr>\n",
              "      <th>2</th>\n",
              "      <td>-122.24</td>\n",
              "      <td>37.85</td>\n",
              "      <td>52.0</td>\n",
              "      <td>1467.0</td>\n",
              "      <td>190.0</td>\n",
              "      <td>496.0</td>\n",
              "      <td>177.0</td>\n",
              "      <td>7.2574</td>\n",
              "      <td>352100.0</td>\n",
              "      <td>NEAR BAY</td>\n",
              "    </tr>\n",
              "    <tr>\n",
              "      <th>3</th>\n",
              "      <td>-122.25</td>\n",
              "      <td>37.85</td>\n",
              "      <td>52.0</td>\n",
              "      <td>1274.0</td>\n",
              "      <td>235.0</td>\n",
              "      <td>558.0</td>\n",
              "      <td>219.0</td>\n",
              "      <td>5.6431</td>\n",
              "      <td>341300.0</td>\n",
              "      <td>NEAR BAY</td>\n",
              "    </tr>\n",
              "    <tr>\n",
              "      <th>4</th>\n",
              "      <td>-122.25</td>\n",
              "      <td>37.85</td>\n",
              "      <td>52.0</td>\n",
              "      <td>1627.0</td>\n",
              "      <td>280.0</td>\n",
              "      <td>565.0</td>\n",
              "      <td>259.0</td>\n",
              "      <td>3.8462</td>\n",
              "      <td>342200.0</td>\n",
              "      <td>NEAR BAY</td>\n",
              "    </tr>\n",
              "    <tr>\n",
              "      <th>5</th>\n",
              "      <td>-122.25</td>\n",
              "      <td>37.85</td>\n",
              "      <td>52.0</td>\n",
              "      <td>919.0</td>\n",
              "      <td>213.0</td>\n",
              "      <td>413.0</td>\n",
              "      <td>193.0</td>\n",
              "      <td>4.0368</td>\n",
              "      <td>269700.0</td>\n",
              "      <td>NEAR BAY</td>\n",
              "    </tr>\n",
              "    <tr>\n",
              "      <th>6</th>\n",
              "      <td>-122.25</td>\n",
              "      <td>37.84</td>\n",
              "      <td>52.0</td>\n",
              "      <td>2535.0</td>\n",
              "      <td>489.0</td>\n",
              "      <td>1094.0</td>\n",
              "      <td>514.0</td>\n",
              "      <td>3.6591</td>\n",
              "      <td>299200.0</td>\n",
              "      <td>NEAR BAY</td>\n",
              "    </tr>\n",
              "    <tr>\n",
              "      <th>7</th>\n",
              "      <td>-122.25</td>\n",
              "      <td>37.84</td>\n",
              "      <td>52.0</td>\n",
              "      <td>3104.0</td>\n",
              "      <td>687.0</td>\n",
              "      <td>1157.0</td>\n",
              "      <td>647.0</td>\n",
              "      <td>3.1200</td>\n",
              "      <td>241400.0</td>\n",
              "      <td>NEAR BAY</td>\n",
              "    </tr>\n",
              "    <tr>\n",
              "      <th>8</th>\n",
              "      <td>-122.26</td>\n",
              "      <td>37.84</td>\n",
              "      <td>42.0</td>\n",
              "      <td>2555.0</td>\n",
              "      <td>665.0</td>\n",
              "      <td>1206.0</td>\n",
              "      <td>595.0</td>\n",
              "      <td>2.0804</td>\n",
              "      <td>226700.0</td>\n",
              "      <td>NEAR BAY</td>\n",
              "    </tr>\n",
              "    <tr>\n",
              "      <th>9</th>\n",
              "      <td>-122.25</td>\n",
              "      <td>37.84</td>\n",
              "      <td>52.0</td>\n",
              "      <td>3549.0</td>\n",
              "      <td>707.0</td>\n",
              "      <td>1551.0</td>\n",
              "      <td>714.0</td>\n",
              "      <td>3.6912</td>\n",
              "      <td>261100.0</td>\n",
              "      <td>NEAR BAY</td>\n",
              "    </tr>\n",
              "  </tbody>\n",
              "</table>\n",
              "</div>"
            ],
            "text/plain": [
              "   longitude  latitude  ...  median_house_value  ocean_proximity\n",
              "0    -122.23     37.88  ...            452600.0         NEAR BAY\n",
              "1    -122.22     37.86  ...            358500.0         NEAR BAY\n",
              "2    -122.24     37.85  ...            352100.0         NEAR BAY\n",
              "3    -122.25     37.85  ...            341300.0         NEAR BAY\n",
              "4    -122.25     37.85  ...            342200.0         NEAR BAY\n",
              "5    -122.25     37.85  ...            269700.0         NEAR BAY\n",
              "6    -122.25     37.84  ...            299200.0         NEAR BAY\n",
              "7    -122.25     37.84  ...            241400.0         NEAR BAY\n",
              "8    -122.26     37.84  ...            226700.0         NEAR BAY\n",
              "9    -122.25     37.84  ...            261100.0         NEAR BAY\n",
              "\n",
              "[10 rows x 10 columns]"
            ]
          },
          "metadata": {
            "tags": []
          },
          "execution_count": 58
        }
      ]
    },
    {
      "cell_type": "code",
      "metadata": {
        "id": "liu9dGMgTZjj",
        "colab_type": "code",
        "outputId": "3201ae04-9918-4466-b277-017d3ec97ce9",
        "colab": {
          "base_uri": "https://localhost:8080/",
          "height": 454
        }
      },
      "source": [
        "# plot each feature of the dataset on separate sub-plots\n",
        "print(\"Plot for each feature of the dataset:\")\n",
        "dataset.plot(subplots = True, grid = True)"
      ],
      "execution_count": 59,
      "outputs": [
        {
          "output_type": "stream",
          "text": [
            "Plot for each feature of the dataset:\n"
          ],
          "name": "stdout"
        },
        {
          "output_type": "execute_result",
          "data": {
            "text/plain": [
              "array([<matplotlib.axes._subplots.AxesSubplot object at 0x7f5a612270f0>,\n",
              "       <matplotlib.axes._subplots.AxesSubplot object at 0x7f5a6121b6a0>,\n",
              "       <matplotlib.axes._subplots.AxesSubplot object at 0x7f5a612c9da0>,\n",
              "       <matplotlib.axes._subplots.AxesSubplot object at 0x7f5a611ca828>,\n",
              "       <matplotlib.axes._subplots.AxesSubplot object at 0x7f5a611f7c18>,\n",
              "       <matplotlib.axes._subplots.AxesSubplot object at 0x7f5a611b10b8>,\n",
              "       <matplotlib.axes._subplots.AxesSubplot object at 0x7f5a61161518>,\n",
              "       <matplotlib.axes._subplots.AxesSubplot object at 0x7f5a6110d9b0>,\n",
              "       <matplotlib.axes._subplots.AxesSubplot object at 0x7f5a6110d9e8>],\n",
              "      dtype=object)"
            ]
          },
          "metadata": {
            "tags": []
          },
          "execution_count": 59
        },
        {
          "output_type": "display_data",
          "data": {
            "image/png": "[encoded data removed]",
            "text/plain": [
              "<Figure size 432x288 with 9 Axes>"
            ]
          },
          "metadata": {
            "tags": []
          }
        }
      ]
    },
    {
      "cell_type": "code",
      "metadata": {
        "id": "mJyrth6YTfIB",
        "colab_type": "code",
        "colab": {}
      },
      "source": [
        "Y= dataset['median_house_value']\n",
        "X= dataset.loc[:,'longitude':'median_income']\n",
        "\n",
        "#split into training and testing\n",
        "x_train, x_test, y_train, y_test = train_test_split(X,Y,test_size=0.3,random_state=2003)\n",
        "\n",
        "#convert the datasets to numpy arrays to work with PyTorch model\n",
        "\n",
        "x_train_np = x_train.to_numpy()\n",
        "y_train_np = y_train.to_numpy()\n",
        "\n",
        "x_test_np = x_test.to_numpy()\n",
        "y_test_np = y_test.to_numpy()"
      ],
      "execution_count": 0,
      "outputs": []
    },
    {
      "cell_type": "markdown",
      "metadata": {
        "id": "NpnSIK8XAlgi",
        "colab_type": "text"
      },
      "source": [
        "**CREATING MODEL**"
      ]
    },
    {
      "cell_type": "code",
      "metadata": {
        "id": "qy5ylAF9AoJP",
        "colab_type": "code",
        "colab": {}
      },
      "source": [
        "import torch\n",
        "from torch.nn import Conv1d #since we're inputing 1D row of data\n",
        "from torch.nn import MaxPool1d #max pooling layer\n",
        "from torch.nn import Flatten\n",
        "from torch.nn import Linear\n",
        "from torch.nn.functional import relu #activation function\n",
        "from torch.utils.data import DataLoader, TensorDataset #to work with datasets"
      ],
      "execution_count": 0,
      "outputs": []
    },
    {
      "cell_type": "markdown",
      "metadata": {
        "id": "GzvkfGyfArgJ",
        "colab_type": "text"
      },
      "source": [
        "*Defining* our model"
      ]
    },
    {
      "cell_type": "code",
      "metadata": {
        "id": "ltbu--pIAtdz",
        "colab_type": "code",
        "colab": {}
      },
      "source": [
        "class CnnRegressor(torch.nn.Module):\n",
        "  #define the initialization method\n",
        "  def __init__(self,batch_size,inputs,outputs):\n",
        "\n",
        "    #initialize the superclass and store the parameters\n",
        "    super(CnnRegressor,self).__init__()\n",
        "    self.batch_size = batch_size\n",
        "    self.inputs = inputs\n",
        "    self.outputs = outputs\n",
        "\n",
        "    #Define input layer (inout channels,output channels,kernel size)\n",
        "    self.input_layer = Conv1d(inputs,batch_size,1)\n",
        "\n",
        "    self.max_pooling_layer = MaxPool1d(1)\n",
        "\n",
        "    #another convolutional layer\n",
        "    self.conv_layer = Conv1d(batch_size,128,1)\n",
        "\n",
        "    self.flatten_layer = Flatten()\n",
        "\n",
        "    self.linear_layer = Linear(128,64)\n",
        "\n",
        "    #defining the output layer\n",
        "    self.output_layer = Linear(64,outputs)\n",
        "\n",
        "  def feed(self,input):\n",
        "    #reshape the entry so it can fit in the input layer. Although we are using \n",
        "    #1D but it expects a 3D wherein the other values except 1D data is empty\n",
        "    input = input.reshape((self.batch_size,self.inputs,1))\n",
        "    output = relu(self.input_layer(input))\n",
        "\n",
        "    output = self.max_pooling_layer(output)\n",
        "\n",
        "    output = relu(self.conv_layer(output))\n",
        "\n",
        "    output = self.flatten_layer(output)\n",
        "\n",
        "    output = self.linear_layer(output)\n",
        "\n",
        "    output = self.output_layer(output)\n",
        "    return output"
      ],
      "execution_count": 0,
      "outputs": []
    },
    {
      "cell_type": "markdown",
      "metadata": {
        "id": "vgBsTtP9A3DR",
        "colab_type": "text"
      },
      "source": [
        "MODEL TRAINING"
      ]
    },
    {
      "cell_type": "code",
      "metadata": {
        "id": "3gGwZB4KA6BE",
        "colab_type": "code",
        "outputId": "a0890378-81cf-4745-f908-069bbdb5d59f",
        "colab": {
          "base_uri": "https://localhost:8080/",
          "height": 52
        }
      },
      "source": [
        "from torch.optim import SGD,Rprop,Adam\n",
        "\n",
        "from torch.nn import L1Loss\n",
        "!pip install pytorch-ignite\n",
        "from ignite.contrib.metrics.regression.r2_score import R2Score "
      ],
      "execution_count": 84,
      "outputs": [
        {
          "output_type": "stream",
          "text": [
            "Requirement already satisfied: pytorch-ignite in /usr/local/lib/python3.6/dist-packages (0.3.0)\n",
            "Requirement already satisfied: torch in /usr/local/lib/python3.6/dist-packages (from pytorch-ignite) (1.4.0)\n"
          ],
          "name": "stdout"
        }
      ]
    },
    {
      "cell_type": "code",
      "metadata": {
        "id": "XrE6dUpxA60z",
        "colab_type": "code",
        "outputId": "c82b87bf-41bd-48dc-aadf-65a653641b24",
        "colab": {
          "base_uri": "https://localhost:8080/",
          "height": 156
        }
      },
      "source": [
        "#define the batch size we'd like to use\n",
        "batch_size = 64\n",
        "\n",
        "#(batch_size,X columns, Y columns)\n",
        "model = CnnRegressor(batch_size,X.shape[1],1)\n",
        "\n",
        "#set the model to use the GPU for processing\n",
        "model.cuda()"
      ],
      "execution_count": 85,
      "outputs": [
        {
          "output_type": "execute_result",
          "data": {
            "text/plain": [
              "CnnRegressor(\n",
              "  (input_layer): Conv1d(8, 64, kernel_size=(1,), stride=(1,))\n",
              "  (max_pooling_layer): MaxPool1d(kernel_size=1, stride=1, padding=0, dilation=1, ceil_mode=False)\n",
              "  (conv_layer): Conv1d(64, 128, kernel_size=(1,), stride=(1,))\n",
              "  (flatten_layer): Flatten()\n",
              "  (linear_layer): Linear(in_features=128, out_features=64, bias=True)\n",
              "  (output_layer): Linear(in_features=64, out_features=1, bias=True)\n",
              ")"
            ]
          },
          "metadata": {
            "tags": []
          },
          "execution_count": 85
        }
      ]
    },
    {
      "cell_type": "markdown",
      "metadata": {
        "id": "5_o4UzgGBBoI",
        "colab_type": "text"
      },
      "source": [
        "Lets create a method for running the batches of data through out model"
      ]
    },
    {
      "cell_type": "code",
      "metadata": {
        "id": "qbRA6EmGA-as",
        "colab_type": "code",
        "colab": {}
      },
      "source": [
        "#This method will return the average L1 loss and R^2 score of the passed model \n",
        "#on the passed Dataloader\n",
        "\n",
        "def model_loss(model,dataset,train=False,optimizer=None):\n",
        "\n",
        "  performance = L1Loss()\n",
        "  mse = \n",
        "  score_metric = R2Score()\n",
        "  avg_loss=0\n",
        "  avg_score=0\n",
        "  count=0\n",
        "  for input,output in iter(dataset):\n",
        "    predictions = model.feed(input)\n",
        "\n",
        "    loss = performance(predictions,output)\n",
        "\n",
        "    score_metric.update([predictions,output])\n",
        "    score = score_metric.compute()\n",
        "\n",
        "    if (train):\n",
        "      optimizer.zero_grad() #clear nay errors so they dont accumulate\n",
        "\n",
        "      loss.backward() #compute the gradients for our optimizer\n",
        "\n",
        "      #use the optimizer o update the models parameteres based on the gradients\n",
        "      optimizer.step()\n",
        "\n",
        "    #Store the loss and update the counter\n",
        "    avg_loss +=loss.item()\n",
        "    avg_score +=score\n",
        "    count += 1\n",
        "\n",
        "  return avg_loss/count,avg_score/count"
      ],
      "execution_count": 0,
      "outputs": []
    },
    {
      "cell_type": "code",
      "metadata": {
        "id": "-N2gQN_e1VpL",
        "colab_type": "code",
        "outputId": "77b33546-1c1d-4090-933c-4a2fa1d6b007",
        "colab": {
          "base_uri": "https://localhost:8080/",
          "height": 87
        }
      },
      "source": [
        "#number of epochs to train\n",
        "epochs = 450 #better performance with increased number of epochs \n",
        "\n",
        "optimizer = Adam(model.parameters() ,lr=0.001)\n",
        "\n",
        "inputs = torch.from_numpy(x_train_np).cuda().float()\n",
        "outputs = torch.from_numpy(y_train_np.reshape(y_train_np.shape[0],1)).cuda().float()\n",
        "\n",
        "tensor = TensorDataset(inputs,outputs)\n",
        "loader = DataLoader(tensor,batch_size,shuffle=True, drop_last=True)\n",
        "\n",
        "start = torch.cuda.Event(enable_timing=True)\n",
        "end = torch.cuda.Event(enable_timing=True)\n",
        "start.record()\n",
        "for epoch in range(epochs):\n",
        "\n",
        "  avg_loss,avg_r2_score = model_loss(model,loader,train=True,optimizer=optimizer)\n",
        "\n",
        "print(\"Epoch\" + str(epoch + 1) + \":\\n\\tLoss = \" + str(avg_loss) + \"\\n\\tR^2 Score = \" + str(avg_r2_score))\n",
        "end.record()\n",
        "\n",
        "torch.cuda.synchronize()\n",
        "print(\"Inference Time: \"+str(start.elapsed_time(end)))"
      ],
      "execution_count": 92,
      "outputs": [
        {
          "output_type": "stream",
          "text": [
            "Epoch450:\n",
            "\tLoss = 40357.11631165919\n",
            "\tR^2 Score = 0.7341403406262607\n",
            "Inference Time: 279815.75\n"
          ],
          "name": "stdout"
        }
      ]
    },
    {
      "cell_type": "code",
      "metadata": {
        "colab_type": "code",
        "outputId": "239b4dd6-5a04-422f-c872-77146ae02a23",
        "id": "lE18jSmneyiq",
        "colab": {
          "base_uri": "https://localhost:8080/",
          "height": 69
        }
      },
      "source": [
        "#using the tseting set instead of testing\n",
        "\n",
        "inputs = torch.from_numpy(x_test_np).cuda().float()\n",
        "outputs = torch.from_numpy(y_test_np.reshape(y_test_np.shape[0],1)).cuda().float()\n",
        "\n",
        "tensor = TensorDataset(inputs,outputs)\n",
        "loader = DataLoader(tensor,batch_size,shuffle=True, drop_last=True)\n",
        "\n",
        "start = torch.cuda.Event(enable_timing=True)\n",
        "end = torch.cuda.Event(enable_timing=True)\n",
        "\n",
        "start.record()\n",
        "avg_loss, avg_r2_score = model_loss(model, loader)\n",
        "end.record()\n",
        "\n",
        "torch.cuda.synchronize()\n",
        "print(\"The model's L1 loss is: \" + str(avg_loss))\n",
        "print(\"The model's R^2 score is: \" + str(avg_r2_score))\n",
        "\n",
        "print(\"Inference Time: \"+str(start.elapsed_time(end)))"
      ],
      "execution_count": 88,
      "outputs": [
        {
          "output_type": "stream",
          "text": [
            "The model's L1 loss is: 47962.753248355264\n",
            "The model's R^2 score is: 0.6343531327543194\n",
            "Inference Time124.78451538085938\n"
          ],
          "name": "stdout"
        }
      ]
    }
  ]
}